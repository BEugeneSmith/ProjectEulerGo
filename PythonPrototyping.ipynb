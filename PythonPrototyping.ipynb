{
 "cells": [
  {
   "cell_type": "code",
   "execution_count": 1,
   "metadata": {
    "collapsed": false
   },
   "outputs": [],
   "source": [
    "m = [[8,2,22,97,38,15,0,40,0,75,4,5,7,78,52,12,50,77,91,8],\n",
    "[49,49,99,40,17,81,18,57,60,87,17,40,98,43,69,48,4,56,62,0],\n",
    "[81,49,31,73,55,79,14,29,93,71,40,67,53,88,30,3,49,13,36,65],\n",
    "[52,70,95,23,4,60,11,42,69,24,68,56,1,32,56,71,37,2,36,91],\n",
    "[22,31,16,71,51,67,63,89,41,92,36,54,22,40,40,28,66,33,13,80],\n",
    "[24,47,32,60,99,3,45,2,44,75,33,53,78,36,84,20,35,17,12,50],\n",
    "[32,98,81,28,64,23,67,10,26,38,40,67,59,54,70,66,18,38,64,70],\n",
    "[67,26,20,68,2,62,12,20,95,63,94,39,63,8,40,91,66,49,94,21],\n",
    "[24,55,58,5,66,73,99,26,97,17,78,78,96,83,14,88,34,89,63,72],\n",
    "[21,36,23,9,75,0,76,44,20,45,35,14,0,61,33,97,34,31,33,95],\n",
    "[78,17,53,28,22,75,31,67,15,94,3,80,4,62,16,14,9,53,56,92],\n",
    "[16,39,5,42,96,35,31,47,55,58,88,24,0,17,54,24,36,29,85,57],\n",
    "[86,56,0,48,35,71,89,7,5,44,44,37,44,60,21,58,51,54,17,58],\n",
    "[19,80,81,68,5,94,47,69,28,73,92,13,86,52,17,77,4,89,55,40],\n",
    "[4,52,8,83,97,35,99,16,7,97,57,32,16,26,26,79,33,27,98,66],\n",
    "[88,36,68,87,57,62,20,72,3,46,33,67,46,55,12,32,63,93,53,69],\n",
    "[4,42,16,73,38,25,39,11,24,94,72,18,8,46,29,32,40,62,76,36],\n",
    "[20,69,36,41,72,30,23,88,34,62,99,69,82,67,59,85,74,4,36,16],\n",
    "[20,73,35,29,78,31,90,1,74,31,49,71,48,86,81,16,23,57,5,54],\n",
    "[1,70,54,71,83,51,54,69,16,92,33,48,61,43,52,1,89,19,67,48]]"
   ]
  },
  {
   "cell_type": "code",
   "execution_count": 33,
   "metadata": {
    "collapsed": false
   },
   "outputs": [],
   "source": [
    "p = [0,0]\n",
    "\n",
    "def getProduct(numset):\n",
    "    prod = 1\n",
    "    for i in numset:\n",
    "        prod *= i\n",
    "    return prod\n",
    "\n",
    "def traverseMatrixDiagonal(matrix,ns=4):\n",
    "    maxProd = [1,[]]\n",
    "    for y in range(17):\n",
    "        for x in range(17):\n",
    "            numset = []\n",
    "            for n in range(ns):\n",
    "                num = matrix[y+n][x+n]\n",
    "                numset.append(num)\n",
    "            setProd = getProduct(numset)\n",
    "            if setProd > maxProd[0]:\n",
    "                maxProd[0] = setProd\n",
    "                maxProd[1] = numset\n",
    "    return maxProd\n",
    "\n",
    "def traverseMatrixDown(matrix,ns=4):\n",
    "    maxProd = [1,[]]\n",
    "    for y in range(17):\n",
    "        for x in range(20):\n",
    "            numset = []\n",
    "            for n in range(ns):\n",
    "                num = matrix[y+n][x]\n",
    "                numset.append(num)\n",
    "            \n",
    "            setProd = getProduct(numset)\n",
    "            if setProd > maxProd[0]:\n",
    "                maxProd[0] = setProd\n",
    "                maxProd[1] = numset\n",
    "    return maxProd\n",
    "\n",
    "def traverseMatrixUp(matrix,ns=4):\n",
    "    maxProd = [1,[]]\n",
    "    for y in range(3,20):\n",
    "        for x in range(20):\n",
    "            numset = []\n",
    "            for n in range(ns):\n",
    "                num = matrix[y-n][x]\n",
    "                numset.append(num)\n",
    "            \n",
    "            setProd = getProduct(numset)\n",
    "            if setProd > maxProd[0]:\n",
    "                maxProd[0] = setProd\n",
    "                maxProd[1] = numset\n",
    "    return maxProd\n",
    "    \n",
    "def traverseMatrixRight(matrix,ns=4):\n",
    "    maxProd = [1,[]]\n",
    "    for y in range(20):\n",
    "        for x in range(17):\n",
    "            numset = []\n",
    "            for n in range(ns):\n",
    "                num = matrix[y][x+n]\n",
    "                numset.append(num)\n",
    "                        \n",
    "            setProd = getProduct(numset)\n",
    "            if setProd > maxProd[0]:\n",
    "                maxProd[0] = setProd\n",
    "                maxProd[1] = numset\n",
    "    return maxProd\n",
    "\n",
    "def traverseMatrixLeft(matrix,ns=4):\n",
    "    maxProd = [1,[]]\n",
    "    for y in range(20):\n",
    "        for x in range(3,20):\n",
    "            numset = []\n",
    "            for n in range(ns):\n",
    "                num = matrix[y][x-n]\n",
    "                numset.append(num)\n",
    "            \n",
    "            setProd = getProduct(numset)\n",
    "            if setProd > maxProd[0]:\n",
    "                maxProd[0] = setProd\n",
    "                maxProd[1] = numset\n",
    "    return maxProd\n",
    "    "
   ]
  },
  {
   "cell_type": "code",
   "execution_count": 34,
   "metadata": {
    "collapsed": false
   },
   "outputs": [
    {
     "name": "stdout",
     "output_type": "stream",
     "text": [
      "[48477312, [83, 96, 78, 78]]\n",
      "[48477312, [78, 78, 96, 83]]\n",
      "[51267216, [97, 88, 91, 66]]\n",
      "[51267216, [66, 91, 88, 97]]\n",
      "[40304286, [94, 99, 71, 61]]\n"
     ]
    }
   ],
   "source": [
    "print traverseMatrixLeft(m)\n",
    "print traverseMatrixRight(m)\n",
    "print traverseMatrixUp(m)\n",
    "print traverseMatrixDown(m)\n",
    "print traverseMatrixDiagonal(m)"
   ]
  },
  {
   "cell_type": "code",
   "execution_count": 10,
   "metadata": {
    "collapsed": false
   },
   "outputs": [
    {
     "name": "stdout",
     "output_type": "stream",
     "text": [
      "[0, 1, 2, 3, 4, 5, 6, 7, 8, 9, 10, 11, 12, 13, 14, 15, 16]\n",
      "[3, 4, 5, 6, 7, 8, 9, 10, 11, 12, 13, 14, 15, 16, 17, 18, 19]\n"
     ]
    }
   ],
   "source": [
    "print range(17)\n",
    "print range(3,20)"
   ]
  }
 ],
 "metadata": {
  "kernelspec": {
   "display_name": "Python 2",
   "language": "python",
   "name": "python2"
  },
  "language_info": {
   "codemirror_mode": {
    "name": "ipython",
    "version": 2
   },
   "file_extension": ".py",
   "mimetype": "text/x-python",
   "name": "python",
   "nbconvert_exporter": "python",
   "pygments_lexer": "ipython2",
   "version": "2.7.6"
  }
 },
 "nbformat": 4,
 "nbformat_minor": 0
}
